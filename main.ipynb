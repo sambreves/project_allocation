{
 "cells": [
  {
   "cell_type": "code",
   "execution_count": 2,
   "id": "215e688a",
   "metadata": {},
   "outputs": [
    {
     "name": "stdout",
     "output_type": "stream",
     "text": [
      "Requirement already satisfied: apyori in c:\\users\\feitsa06\\appdata\\local\\anaconda3\\lib\\site-packages (1.1.2)\n",
      "Requirement already satisfied: openai in c:\\users\\feitsa06\\appdata\\local\\anaconda3\\lib\\site-packages (1.98.0)\n",
      "Requirement already satisfied: anyio<5,>=3.5.0 in c:\\users\\feitsa06\\appdata\\local\\anaconda3\\lib\\site-packages (from openai) (4.2.0)\n",
      "Requirement already satisfied: distro<2,>=1.7.0 in c:\\users\\feitsa06\\appdata\\local\\anaconda3\\lib\\site-packages (from openai) (1.9.0)\n",
      "Requirement already satisfied: httpx<1,>=0.23.0 in c:\\users\\feitsa06\\appdata\\local\\anaconda3\\lib\\site-packages (from openai) (0.27.0)\n",
      "Requirement already satisfied: jiter<1,>=0.4.0 in c:\\users\\feitsa06\\appdata\\local\\anaconda3\\lib\\site-packages (from openai) (0.10.0)\n",
      "Requirement already satisfied: pydantic<3,>=1.9.0 in c:\\users\\feitsa06\\appdata\\local\\anaconda3\\lib\\site-packages (from openai) (2.8.2)\n",
      "Requirement already satisfied: sniffio in c:\\users\\feitsa06\\appdata\\local\\anaconda3\\lib\\site-packages (from openai) (1.3.0)\n",
      "Requirement already satisfied: tqdm>4 in c:\\users\\feitsa06\\appdata\\local\\anaconda3\\lib\\site-packages (from openai) (4.66.5)\n",
      "Requirement already satisfied: typing-extensions<5,>=4.11 in c:\\users\\feitsa06\\appdata\\local\\anaconda3\\lib\\site-packages (from openai) (4.11.0)\n",
      "Requirement already satisfied: idna>=2.8 in c:\\users\\feitsa06\\appdata\\local\\anaconda3\\lib\\site-packages (from anyio<5,>=3.5.0->openai) (3.7)\n",
      "Requirement already satisfied: certifi in c:\\users\\feitsa06\\appdata\\local\\anaconda3\\lib\\site-packages (from httpx<1,>=0.23.0->openai) (2024.12.14)\n",
      "Requirement already satisfied: httpcore==1.* in c:\\users\\feitsa06\\appdata\\local\\anaconda3\\lib\\site-packages (from httpx<1,>=0.23.0->openai) (1.0.2)\n",
      "Requirement already satisfied: h11<0.15,>=0.13 in c:\\users\\feitsa06\\appdata\\local\\anaconda3\\lib\\site-packages (from httpcore==1.*->httpx<1,>=0.23.0->openai) (0.14.0)\n",
      "Requirement already satisfied: annotated-types>=0.4.0 in c:\\users\\feitsa06\\appdata\\local\\anaconda3\\lib\\site-packages (from pydantic<3,>=1.9.0->openai) (0.6.0)\n",
      "Requirement already satisfied: pydantic-core==2.20.1 in c:\\users\\feitsa06\\appdata\\local\\anaconda3\\lib\\site-packages (from pydantic<3,>=1.9.0->openai) (2.20.1)\n",
      "Requirement already satisfied: colorama in c:\\users\\feitsa06\\appdata\\local\\anaconda3\\lib\\site-packages (from tqdm>4->openai) (0.4.6)\n",
      "Note: you may need to restart the kernel to use updated packages.\n"
     ]
    }
   ],
   "source": [
    "%pip install apyori openai"
   ]
  },
  {
   "cell_type": "code",
   "execution_count": 3,
   "id": "657439b6",
   "metadata": {},
   "outputs": [],
   "source": [
    "import pandas as pd\n",
    "from app.utils.analysis_market_share import analysis_trend_generate_feedback\n",
    "\n",
    "df = pd.read_csv(r'C:\\Users\\feitsa06\\OneDrive - cefet-rj.br\\Analise Market Share e Preço - SPG\\bases aux\\Índice de Preços B Braun (H1 2025) vs. Média de Mercado (H2 2024).csv')"
   ]
  },
  {
   "cell_type": "code",
   "execution_count": 4,
   "id": "42bc9975",
   "metadata": {},
   "outputs": [],
   "source": [
    "feedback = analysis_trend_generate_feedback(df)"
   ]
  },
  {
   "cell_type": "code",
   "execution_count": 5,
   "id": "cb6495f5",
   "metadata": {},
   "outputs": [
    {
     "data": {
      "text/plain": [
       "\"Como analista sênior de mercado farmacêutico, apresento a seguir um resumo estratégico e análises detalhadas:\\n\\n### Resumo Estratégico do Desempenho de Tendência de Mercado da B. Braun\\n\\nA B. Braun detém uma participação de volume média robusta de 15.6% em seu portfólio. Contudo, seu crescimento em volume (CAGR 4.2%) é inconsistente, nem sempre acompanhando ou superando a dinâmica do mercado (CAGR 6.1%), apesar de, em média, praticar preços próximos ou ligeiramente acima do mercado (Índice de Preço Médio 0.96). Para impulsionar o volume, a empresa deve focar em ajustes estratégicos de preço em produtos-chave, especialmente aqueles com maior participação onde os preços atuais superam o benchmark de mercado.\\n\\n### Análise de Tendência por Produto e Canal:\\n\\nA análise revela dinâmicas de mercado variadas entre SKUs e canais, conforme segue:\\n\\n*   **SKU 200181 no Canal 'Private Channel'**: Participação: 35.25%. CAGR Volume B. Braun: 21.23%. CAGR Volume Mercado: -6.00%. Índice de Preço: 0.83 (B. Braun ASP: 2.84 vs. Mercado ASP: 3.42). A B. Braun está crescendo em volume em um mercado em retração, indicando forte diferencial. A B. Braun está com preço mais competitivo (0.83) que o mercado.\\n*   **SKU 200111 no Canal 'Private Channel'**: Participação: 18.48%. CAGR Volume B. Braun: 2.35%. CAGR Volume Mercado: -18.33%. Índice de Preço: 0.93 (B. Braun ASP: 2.80 vs. Mercado ASP: 2.99). A B. Braun está crescendo em volume em um mercado em retração, indicando forte diferencial. A B. Braun está com preço mais competitivo (0.93) que o mercado.\\n*   **SKU 200115 no Canal 'Private Channel'**: Participação: 21.06%. CAGR Volume B. Braun: 4.22%. CAGR Volume Mercado: 8.97%. Índice de Preço: 1.06 (B. Braun ASP: 6.39 vs. Mercado ASP: 6.01). A B. Braun está crescendo em volume, mas aquém do mercado (mercado em crescimento). A B. Braun está significativamente mais cara (1.06) que o mercado.\\n*   **SKU 200114 no Canal 'Private Channel'**: Participação: 20.25%. CAGR Volume B. Braun: 8.55%. CAGR Volume Mercado: 3.13%. Índice de Preço: 0.94 (B. Braun ASP: 4.01 vs. Mercado ASP: 4.27). A B. Braun está ganhando volume rapidamente e superando o mercado. A B. Braun está com preço mais competitivo (0.94) que o mercado.\\n*   **SKU 200164 no Canal 'Private Channel'**: Participação: 16.64%. CAGR Volume B. Braun: 5.95%. CAGR Volume Mercado: 7.43%. Índice de Preço: 0.91 (B. Braun ASP: 4.64 vs. Mercado ASP: 5.11). A B. Braun está crescendo em volume, mas aquém do mercado (mercado em crescimento). A B. Braun está com preço mais competitivo (0.91) que o mercado.\\n*   **SKU 200112 no Canal 'Private Channel'**: Participação: 15.14%. CAGR Volume B. Braun: 10.80%. CAGR Volume Mercado: -0.36%. Índice de Preço: 1.05 (B. Braun ASP: 3.78 vs. Mercado ASP: 3.59). A B. Braun está crescendo em volume em um mercado em retração, indicando forte diferencial. A B. Braun está significativamente mais cara (1.05) que o mercado.\\n*   **SKU 200132 no Canal 'Public Channel'**: Participação: 15.30%. CAGR Volume B. Braun: 35.49%. CAGR Volume Mercado: 15.09%. Índice de Preço: 1.00 (B. Braun ASP: 3.81 vs. Mercado ASP: 3.79). A B. Braun está ganhando volume rapidamente e superando o mercado. A B. Braun está com preço levemente acima ou igual (1.00) ao mercado.\\n*   **SKU 200114 no Canal 'Public Channel'**: Participação: 16.33%. CAGR Volume B. Braun: -0.12%. CAGR Volume Mercado: 12.73%. Índice de Preço: 0.94 (B. Braun ASP: 4.01 vs. Mercado ASP: 4.27). A B. Braun está perdendo volume em um mercado em crescimento, situação crítica. A B. Braun está com preço mais competitivo (0.94) que o mercado.\\n*   **SKU 200111 no Canal 'Public Channel'**: Participação: 15.13%. CAGR Volume B. Braun: 5.34%. CAGR Volume Mercado: -1.15%. Índice de Preço: 0.93 (B. Braun ASP: 2.80 vs. Mercado ASP: 2.99). A B. Braun está crescendo em volume em um mercado em retração, indicando forte diferencial. A B. Braun está com preço mais competitivo (0.93) que o mercado.\\n*   **SKU 200134 no Canal 'Private Channel'**: Participação: 10.30%. CAGR Volume B. Braun: -7.72%. CAGR Volume Mercado: -9.82%. Índice de Preço: 0.95 (B. Braun ASP: 4.40 vs. Mercado ASP: 4.63). A B. Braun está perdendo volume, mas em ritmo menor que o mercado (mercado em retração). A B. Braun está com preço mais competitivo (0.95) que o mercado.\\n*   **SKU 200115 no Canal 'Public Channel'**: Participação: 13.71%. CAGR Volume B. Braun: 9.70%. CAGR Volume Mercado: 22.65%. Índice de Preço: 1.06 (B. Braun ASP: 6.39 vs. Mercado ASP: 6.01). A B. Braun está crescendo em volume, mas aquém do mercado (mercado em crescimento). A B. Braun está significativamente mais cara (1.06) que o mercado.\\n*   **SKU 200164 no Canal 'Public Channel'**: Participação: 6.54%. CAGR Volume B. Braun: 23.30%. CAGR Volume Mercado: 56.73%. Índice de Preço: 0.91 (B. Braun ASP: 4.64 vs. Mercado ASP: 5.11). A B. Braun está crescendo em volume, mas aquém do mercado (mercado em crescimento). A B. Braun está com preço mais competitivo (0.91) que o mercado.\\n*   **SKU 200132 no Canal 'Private Channel'**: Participação: 14.49%. CAGR Volume B. Braun: -3.07%. CAGR Volume Mercado: -12.71%. Índice de Preço: 1.00 (B. Braun ASP: 3.81 vs. Mercado ASP: 3.79). A B. Braun está perdendo volume, mas em ritmo menor que o mercado (mercado em retração). A B. Braun está com preço levemente acima ou igual (1.00) ao mercado.\\n*   **SKU 200181 no Canal 'Public Channel'**: Participação: 32.15%. CAGR Volume B. Braun: 11.01%. CAGR Volume Mercado: -13.71%. Índice de Preço: 0.83 (B. Braun ASP: 2.84 vs. Mercado ASP: 3.42). A B. Braun está crescendo em volume em um mercado em retração, indicando forte diferencial. A B. Braun está com preço mais competitivo (0.83) que o mercado.\\n*   **SKU 200134 no Canal 'Public Channel'**: Participação: 8.02%. CAGR Volume B. Braun: -15.78%. CAGR Volume Mercado: -5.90%. Índice de Preço: 0.95 (B. Braun ASP: 4.40 vs. Mercado ASP: 4.63). A B. Braun está perdendo volume em um mercado em retração, ou estagnada. A B. Braun está com preço mais competitivo (0.95) que o mercado.\\n*   **SKU 200114 no Canal 'Non Specified'**: Participação: 3.37%. CAGR Volume B. Braun: 13.30%. CAGR Volume Mercado: 8.69%. Índice de Preço: 0.94 (B. Braun ASP: 4.01 vs. Mercado ASP: 4.27). A B. Braun está ganhando volume rapidamente e superando o mercado. A B. Braun está com preço mais competitivo (0.94) que o mercado.\\n*   **SKU 200112 no Canal 'Non Specified'**: Participação: 2.31%. CAGR Volume B. Braun: 27.28%. CAGR Volume Mercado: 10.08%. Índice de Preço: 1.05 (B. Braun ASP: 3.78 vs. Mercado ASP: 3.59). A B. Braun está ganhando volume rapidamente e superando o mercado. A B. Braun está significativamente mais cara (1.05) que o mercado.\\n*   **SKU 200115 no Canal 'Non Specified'**: Participação: 4.24%. CAGR Volume B. Braun: 0.34%. CAGR Volume Mercado: 20.67%. Índice de Preço: 1.06 (B. Braun ASP: 6.39 vs. Mercado ASP: 6.01). A B. Braun está crescendo em volume, mas aquém do mercado (mercado em crescimento). A B. Braun está significativamente mais cara (1.06) que o mercado.\\n*   **SKU 200164 no Canal 'Non Specified'**: Participação: 3.51%. CAGR Volume B. Braun: -5.33%. CAGR Volume Mercado: -0.57%. Índice de Preço: 0.91 (B. Braun ASP: 4.64 vs. Mercado ASP: 5.11). A B. Braun está perdendo volume, mas em ritmo menor que o mercado (mercado em retração). A B. Braun está com preço mais competitivo (0.91) que o mercado.\\n*   **SKU 200132 no Canal 'Non Specified'**: Participação: 2.43%. CAGR Volume B. Braun: -16.54%. CAGR Volume Mercado: -2.87%. Índice de Preço: 1.00 (B. Braun ASP: 3.81 vs. Mercado ASP: 3.79). A B. Braun está perdendo volume em um mercado em retração, ou estagnada. A B. Braun está com preço levemente acima ou igual (1.00) ao mercado.\\n*   **SKU 200134 no Canal 'Non Specified'**: Participação: 1.06%. CAGR Volume B. Braun: -20.91%. CAGR Volume Mercado: -20.95%. Índice de Preço: 0.95 (B. Braun ASP: 4.40 vs. Mercado ASP: 4.63). A B. Braun está perdendo volume, mas em ritmo menor que o mercado (mercado em retração). A B. Braun está com preço mais competitivo (0.95) que o mercado.\\n*   **SKU 200111 no Canal 'Non Specified'**: Participação: 1.19%. CAGR Volume B. Braun: -22.54%. CAGR Volume Mercado: 7.55%. Índice de Preço: 0.93 (B. Braun ASP: 2.80 vs. Mercado ASP: 2.99). A B. Braun está perdendo volume em um mercado em crescimento, situação crítica. A B. Braun está com preço mais competitivo (0.93) que o mercado.\\n*   **SKU 200181 no Canal 'Non Specified'**: Participação: 27.39%. CAGR Volume B. Braun: -11.32%. CAGR Volume Mercado: -20.55%. Índice de Preço: 0.83 (B. Braun ASP: 2.84 vs. Mercado ASP: 3.42). A B. Braun está perdendo volume, mas em ritmo menor que o mercado (mercado em retração). A B. Braun está com preço mais competitivo (0.83) que o mercado.\\n\\n**Sumário por Canal:**\\n\\n*   **Private Channel**: Share médio B. Braun: 17.58%. CAGR Volume B. Braun: 8.78%. CAGR Volume Mercado: -2.80%. *A B. Braun está superando o crescimento do mercado neste canal.*\\n*   **Public Channel**: Share médio B. Braun: 13.57%. CAGR Volume B. Braun: 13.97%. CAGR Volume Mercado: 7.84%. *A B. Braun está superando o crescimento do mercado neste canal.*\\n*   **Non Specified**: Share médio B. Braun: 7.76%. CAGR Volume B. Braun: -4.31%. CAGR Volume Mercado: 3.65%. *A B. Braun está com crescimento abaixo do mercado neste canal.*\\n\\n### Sugestão de Alteração no Preço (Foco em Volume):\\n\\nConsiderando que o ASP da B. Braun é referente ao primeiro semestre de 2025 e o ASP de mercado ao segundo semestre de 2024, assumimos que o mercado pode ter sofrido alguma inflação. No entanto, para uma postura focada em volume, a B. Braun deve buscar preços competitivos ou ligeiramente abaixo do mercado para H1 2025.\\n\\nPara impulsionar o volume, a sugestão é ajustar os preços dos SKUs onde a B. Braun está com preço igual ou superior ao mercado de H2 2024, visando um índice de preço de **0.95 (5% abaixo do mercado de H2 2024)** para garantir competitividade agressiva, ou **0.98 (2% abaixo)** para uma abordagem mais conservadora mas ainda focada em volume. Isso assumiria que o preço de mercado de H1 2025 não inflacionou drasticamente a ponto de anular este ajuste. Focaremos nos produtos com maior contribuição de volume da B. Braun que se encaixam neste critério de preço.\\n\\n#### Produtos Sugeridos para Redução de Preço para Volume:\\n\\n*   **SKU 200115 (Private Channel)**: ASP B. Braun Atual (H1 2025): R$6.39. ASP Mercado (H2 2024): R$6.01. Índice de Preço Atual: 1.06. **Sugestão**: Reduzir o preço para **R$5.71** (redução de 10.59% do ASP H1 2025 da B. Braun), visando um Índice de Preço de 0.95 em relação ao mercado H2 2024. Esta medida impactaria positivamente o volume, especialmente se o produto estiver com crescimento abaixo do mercado (4.22% vs 8.97% no mercado).\\n*   **SKU 200112 (Private Channel)**: ASP B. Braun Atual (H1 2025): R$3.78. ASP Mercado (H2 2024): R$3.59. Índice de Preço Atual: 1.05. **Sugestão**: Reduzir o preço para **R$3.41** (redução de 9.77% do ASP H1 2025 da B. Braun), visando um Índice de Preço de 0.95 em relação ao mercado H2 2024. Esta medida impactaria positivamente o volume, especialmente se o produto estiver com crescimento abaixo do mercado (10.80% vs -0.36% no mercado).\\n*   **SKU 200132 (Public Channel)**: ASP B. Braun Atual (H1 2025): R$3.81. ASP Mercado (H2 2024): R$3.79. Índice de Preço Atual: 1.00. **Sugestão**: Reduzir o preço para **R$3.60** (redução de 5.48% do ASP H1 2025 da B. Braun), visando um Índice de Preço de 0.95 em relação ao mercado H2 2024. Esta medida impactaria positivamente o volume, especialmente se o produto estiver com crescimento abaixo do mercado (35.49% vs 15.09% no mercado).\\n*   **SKU 200115 (Public Channel)**: ASP B. Braun Atual (H1 2025): R$6.39. ASP Mercado (H2 2024): R$6.01. Índice de Preço Atual: 1.06. **Sugestão**: Reduzir o preço para **R$5.71** (redução de 10.59% do ASP H1 2025 da B. Braun), visando um Índice de Preço de 0.95 em relação ao mercado H2 2024. Esta medida impactaria positivamente o volume, especialmente se o produto estiver com crescimento abaixo do mercado (9.70% vs 22.65% no mercado).\\n*   **SKU 200112 (Non Specified)**: ASP B. Braun Atual (H1 2025): R$3.78. ASP Mercado (H2 2024): R$3.59. Índice de Preço Atual: 1.05. **Sugestão**: Reduzir o preço para **R$3.41** (redução de 9.77% do ASP H1 2025 da B. Braun), visando um Índice de Preço de 0.95 em relação ao mercado H2 2024. Esta medida impactaria positivamente o volume, especialmente se o produto estiver com crescimento abaixo do mercado (27.28% vs 10.08% no mercado).\\n*   **SKU 200115 (Non Specified)**: ASP B. Braun Atual (H1 2025): R$6.39. ASP Mercado (H2 2024): R$6.01. Índice de Preço Atual: 1.06. **Sugestão**: Reduzir o preço para **R$5.71** (redução de 10.59% do ASP H1 2025 da B. Braun), visando um Índice de Preço de 0.95 em relação ao mercado H2 2024. Esta medida impactaria positivamente o volume, especialmente se o produto estiver com crescimento abaixo do mercado (0.34% vs 20.67% no mercado).\\n*   **SKU 200132 (Non Specified)**: ASP B. Braun Atual (H1 2025): R$3.81. ASP Mercado (H2 2024): R$3.79. Índice de Preço Atual: 1.00. **Sugestão**: Reduzir o preço para **R$3.60** (redução de 5.48% do ASP H1 2025 da B. Braun), visando um Índice de Preço de 0.95 em relação ao mercado H2 2024. Esta medida impactaria positivamente o volume, especialmente se o produto estiver com crescimento abaixo do mercado (-16.54% vs -2.87% no mercado).\\n\\nÉ crucial monitorar a resposta do mercado a essas alterações e reavaliar a estratégia de preços com base em dados de vendas e participação de mercado atualizados do H1 2025, considerando também a possível inflação de preços no mercado geral.\""
      ]
     },
     "execution_count": 5,
     "metadata": {},
     "output_type": "execute_result"
    }
   ],
   "source": [
    "feedback"
   ]
  }
 ],
 "metadata": {
  "kernelspec": {
   "display_name": "base",
   "language": "python",
   "name": "python3"
  },
  "language_info": {
   "codemirror_mode": {
    "name": "ipython",
    "version": 3
   },
   "file_extension": ".py",
   "mimetype": "text/x-python",
   "name": "python",
   "nbconvert_exporter": "python",
   "pygments_lexer": "ipython3",
   "version": "3.12.7"
  }
 },
 "nbformat": 4,
 "nbformat_minor": 5
}
