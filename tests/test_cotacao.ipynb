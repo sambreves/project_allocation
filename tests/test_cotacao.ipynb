{
 "cells": [
  {
   "cell_type": "code",
   "execution_count": 14,
   "id": "b5bb152f",
   "metadata": {},
   "outputs": [
    {
     "name": "stdout",
     "output_type": "stream",
     "text": [
      "<class 'pandas.core.frame.DataFrame'>\n",
      "Index: 94 entries, 1744 to 827683\n",
      "Data columns (total 24 columns):\n",
      " #   Column                         Non-Null Count  Dtype         \n",
      "---  ------                         --------------  -----         \n",
      " 0   Data\n",
      "Importação                94 non-null     object        \n",
      " 1   Integração                     94 non-null     object        \n",
      " 2   Cotação\n",
      "Código                 94 non-null     object        \n",
      " 3   Cliente\n",
      "CNPJ                   94 non-null     object        \n",
      " 4   Cliente\n",
      "Código                 94 non-null     object        \n",
      " 5   Cliente\n",
      "Nome                   94 non-null     object        \n",
      " 6   Estado                         93 non-null     object        \n",
      " 7   Produto Código\n",
      "Bbraun          94 non-null     object        \n",
      " 8   Produto Descrição\n",
      "Integradora  94 non-null     object        \n",
      " 9   Usuário Envio\n",
      "Resposta         94 non-null     object        \n",
      " 10  Situação\n",
      "Item                  94 non-null     object        \n",
      " 11  Tipo\n",
      "Precificação              94 non-null     object        \n",
      " 12  Data\n",
      "Alteração                 94 non-null     object        \n",
      " 13  Data\n",
      "Vencimento                94 non-null     datetime64[ns]\n",
      " 14  Produto Código\n",
      "Integradora     94 non-null     object        \n",
      " 15  Contrato                       94 non-null     object        \n",
      " 16  Marca\n",
      "Solicitada               83 non-null     object        \n",
      " 17  Atendente                      92 non-null     object        \n",
      " 18  Cliente\n",
      "Contato                94 non-null     object        \n",
      " 19  Quantidade\n",
      "Cotada              94 non-null     float64       \n",
      " 20  Quantidade\n",
      "Confirmada          94 non-null     object        \n",
      " 21  R$ Médio\n",
      "Cotado                94 non-null     object        \n",
      " 22  R$\n",
      "Cotado                      94 non-null     object        \n",
      " 23  Month                          94 non-null     int32         \n",
      "dtypes: datetime64[ns](1), float64(1), int32(1), object(21)\n",
      "memory usage: 18.0+ KB\n"
     ]
    }
   ],
   "source": [
    "import pandas as pd\n",
    "import datetime as dt\n",
    "\n",
    "df = pd.read_csv('.././data/files/log_cotacoes.csv', dtype=str, sep=';', decimal=',')\n",
    "\n",
    "df = df.loc[(df['Produto Código\\nBbraun']=='200114'), :]\n",
    "\n",
    "df['Quantidade\\nCotada'] = df['Quantidade\\nCotada'].str.replace('.', '', regex=False).astype(float)\n",
    "df['Data\\nVencimento'] = pd.to_datetime(df['Data\\nVencimento'], format='%d/%m/%Y')\n",
    "df['Month'] = df['Data\\nVencimento'].dt.month\n",
    "\n",
    "df.info()"
   ]
  },
  {
   "cell_type": "code",
   "execution_count": 17,
   "id": "a6751bde",
   "metadata": {},
   "outputs": [
    {
     "data": {
      "text/plain": [
       "Index(['Data\\nImportação', 'Integração', 'Cotação\\nCódigo', 'Cliente\\nCNPJ',\n",
       "       'Cliente\\nCódigo', 'Cliente\\nNome', 'Estado', 'Produto Código\\nBbraun',\n",
       "       'Produto Descrição\\nIntegradora', 'Usuário Envio\\nResposta',\n",
       "       'Situação\\nItem', 'Tipo\\nPrecificação', 'Data\\nAlteração',\n",
       "       'Data\\nVencimento', 'Produto Código\\nIntegradora', 'Contrato',\n",
       "       'Marca\\nSolicitada', 'Atendente', 'Cliente\\nContato',\n",
       "       'Quantidade\\nCotada', 'Quantidade\\nConfirmada', 'R$ Médio\\nCotado',\n",
       "       'R$\\nCotado', 'Month'],\n",
       "      dtype='object')"
      ]
     },
     "execution_count": 17,
     "metadata": {},
     "output_type": "execute_result"
    }
   ],
   "source": [
    "df.columns"
   ]
  },
  {
   "cell_type": "code",
   "execution_count": 20,
   "id": "9aaf3311",
   "metadata": {},
   "outputs": [],
   "source": [
    "df.head(50).to_excel('.././data/files/teste_log_cotacao.xlsx', index=False)"
   ]
  }
 ],
 "metadata": {
  "kernelspec": {
   "display_name": ".venv (3.13.2)",
   "language": "python",
   "name": "python3"
  },
  "language_info": {
   "codemirror_mode": {
    "name": "ipython",
    "version": 3
   },
   "file_extension": ".py",
   "mimetype": "text/x-python",
   "name": "python",
   "nbconvert_exporter": "python",
   "pygments_lexer": "ipython3",
   "version": "3.13.2"
  }
 },
 "nbformat": 4,
 "nbformat_minor": 5
}
