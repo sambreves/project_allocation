{
 "cells": [
  {
   "cell_type": "code",
   "execution_count": 1,
   "id": "d649c0e6",
   "metadata": {},
   "outputs": [
    {
     "name": "stdout",
     "output_type": "stream",
     "text": [
      "Requirement already satisfied: pulp in c:\\users\\samue\\anaconda3\\lib\\site-packages (3.2.1)\n",
      "Note: you may need to restart the kernel to use updated packages.\n"
     ]
    }
   ],
   "source": [
    "%pip install pulp"
   ]
  },
  {
   "cell_type": "code",
   "execution_count": 2,
   "id": "e325845e",
   "metadata": {},
   "outputs": [],
   "source": [
    "from app.classes.data_processor import DataProcessor\n",
    "from app.classes.table_creator import TableCreator\n",
    "from app.classes.table_merger import TableMerger\n",
    "from app.classes.table_processor import TableProcessor\n",
    "from app.utils.save_file import save_local_file_xlsx, save_daily_allocation_OV, save_local_file_csv\n",
    "from app.utils.treat_table import format_float_2_decimal\n",
    "\n",
    "file_content_billing = './data/files/billing_hp_2024.csv'\n",
    "file_content_general_data = './data/files/general_data.xlsx'\n",
    "file_content_ibge = './data/files/populacao_municipios_ibge_2022.xlsx'\n",
    "\n",
    "data_billing_ytd = DataProcessor.type_columns(file_content_general_data, sheet_name=\"billing_hp_2024\").data\n",
    "data_billing_ay = DataProcessor.type_columns(file_content_general_data, sheet_name=\"Billing\").data\n",
    "\n",
    "data_billing = DataProcessor.concat_table_billing(data_billing_ytd, data_billing_ay).data\n",
    "\n",
    "data_customers = DataProcessor.type_columns(file_content_general_data, sheet_name=\"Customers\").data\n",
    "data_products = DataProcessor.type_columns(file_content_general_data, sheet_name=\"Products\").data\n",
    "data_volume = DataProcessor.type_columns(file_content_general_data, sheet_name=\"Volume\").data\n",
    "data_pending = DataProcessor.type_columns(file_content_general_data, sheet_name=\"OV\").data\n",
    "data_volume_reg = DataProcessor.type_columns(file_content_general_data, sheet_name='Volume').data\n",
    "data_stock = DataProcessor.type_columns(file_content_general_data, sheet_name='Stock').data\n",
    "data_frete = DataProcessor.type_columns(file_content_general_data, sheet_name='frete_cidade').data\n",
    "data_ibge = DataProcessor.type_columns(file_content_ibge, sheet_name='Municipios').data"
   ]
  },
  {
   "cell_type": "code",
   "execution_count": 3,
   "id": "169473c1",
   "metadata": {},
   "outputs": [],
   "source": [
    "table_main = TableCreator.create_table_main(data_customers, data_products).data\n",
    "table_customers = TableCreator.create_table_customers(data_customers).data\n",
    "table_products = TableCreator.create_table_products(data_products).data\n",
    "table_billing_ytd = TableCreator.create_table_billing_ytd(data_billing).data\n",
    "table_pareto_customers = TableCreator.create_table_pareto_customers(table_billing_ytd).data\n",
    "table_volume_sku = TableCreator.create_table_volume_sku(data_volume).data\n",
    "table_pareto_private_customers = TableCreator.create_table_pareto_private_customers(table_billing_ytd, table_customers).data\n",
    "table_pareto_products = TableCreator.create_table_pareto_products(table_billing_ytd).data\n",
    "table_portfolio = TableCreator.create_table_portfolio(table_billing_ytd, table_pareto_products).data\n",
    "table_billing_customers_sba = TableCreator.create_table_billing_customers_sba(table_billing_ytd).data\n",
    "table_billing_customers_hospital_care = TableCreator.create_table_billing_customers_hospital_care(table_billing_ytd).data\n",
    "table_purchase_frequency = TableCreator.create_table_purchase_frequency(data_billing).data\n",
    "table_purchase_frequency_customers = TableCreator.create_table_purchase_frequency_customers(data_billing).data\n",
    "table_last_month_purchase = TableCreator.create_table_last_month_purchase(data_billing).data\n",
    "table_billing_ay = TableCreator.create_table_billing_actual_year(data_billing_ay).data\n",
    "table_pending_customers = TableCreator.create_table_pending_customers(data_pending).data\n",
    "table_representation_sales_sba = TableCreator.create_table_representation_sales_sba(data_billing).data\n",
    "table_unit_price = TableCreator.create_table_unit_price(data_billing).data\n",
    "table_pending = TableCreator.create_table_pending(data_pending).data\n",
    "table_stock = TableCreator.create_table_stock(data_stock).data\n",
    "table_volume_reg = TableCreator.create_table_volume_reg(data_volume_reg).data\n",
    "table_billing_am = TableCreator.create_table_billing_actual_month(data_billing_ay).data\n",
    "table_frete = TableCreator.create_table_freight(data_billing_ay, data_ibge).data\n",
    "table_alert_limits = TableCreator.create_table_alert_limits(data_billing_ay, table_frete).data"
   ]
  },
  {
   "cell_type": "code",
   "execution_count": 4,
   "id": "2b46594e",
   "metadata": {},
   "outputs": [
    {
     "data": {
      "text/html": [
       "<div>\n",
       "<style scoped>\n",
       "    .dataframe tbody tr th:only-of-type {\n",
       "        vertical-align: middle;\n",
       "    }\n",
       "\n",
       "    .dataframe tbody tr th {\n",
       "        vertical-align: top;\n",
       "    }\n",
       "\n",
       "    .dataframe thead th {\n",
       "        text-align: right;\n",
       "    }\n",
       "</style>\n",
       "<table border=\"1\" class=\"dataframe\">\n",
       "  <thead>\n",
       "    <tr style=\"text-align: right;\">\n",
       "      <th></th>\n",
       "      <th>Cidade</th>\n",
       "      <th>UF</th>\n",
       "      <th>ICF_Historico_%</th>\n",
       "      <th>Limite_Alerta_%</th>\n",
       "    </tr>\n",
       "  </thead>\n",
       "  <tbody>\n",
       "    <tr>\n",
       "      <th>0</th>\n",
       "      <td>Rio Branco</td>\n",
       "      <td>AC</td>\n",
       "      <td>0.000000</td>\n",
       "      <td>0.000000</td>\n",
       "    </tr>\n",
       "    <tr>\n",
       "      <th>1</th>\n",
       "      <td>Maceio</td>\n",
       "      <td>AL</td>\n",
       "      <td>0.087018</td>\n",
       "      <td>0.121825</td>\n",
       "    </tr>\n",
       "    <tr>\n",
       "      <th>2</th>\n",
       "      <td>Sao Miguel Dos Campos</td>\n",
       "      <td>AL</td>\n",
       "      <td>0.000000</td>\n",
       "      <td>0.000000</td>\n",
       "    </tr>\n",
       "    <tr>\n",
       "      <th>3</th>\n",
       "      <td>Manaus</td>\n",
       "      <td>AM</td>\n",
       "      <td>0.479114</td>\n",
       "      <td>0.670759</td>\n",
       "    </tr>\n",
       "    <tr>\n",
       "      <th>4</th>\n",
       "      <td>Tabatinga</td>\n",
       "      <td>AM</td>\n",
       "      <td>0.000000</td>\n",
       "      <td>0.000000</td>\n",
       "    </tr>\n",
       "  </tbody>\n",
       "</table>\n",
       "</div>"
      ],
      "text/plain": [
       "                  Cidade  UF  ICF_Historico_%  Limite_Alerta_%\n",
       "0             Rio Branco  AC         0.000000         0.000000\n",
       "1                 Maceio  AL         0.087018         0.121825\n",
       "2  Sao Miguel Dos Campos  AL         0.000000         0.000000\n",
       "3                 Manaus  AM         0.479114         0.670759\n",
       "4              Tabatinga  AM         0.000000         0.000000"
      ]
     },
     "execution_count": 4,
     "metadata": {},
     "output_type": "execute_result"
    }
   ],
   "source": [
    "table_alert_limits.head()"
   ]
  },
  {
   "cell_type": "code",
   "execution_count": 5,
   "id": "5aa6562c",
   "metadata": {},
   "outputs": [],
   "source": [
    "table_general_merge = TableMerger.merge_table_general(\n",
    "    table_main,\n",
    "    table_billing_ytd,\n",
    "    table_customers,\n",
    "    table_products,\n",
    "    table_volume_sku,\n",
    "    table_pareto_customers,\n",
    "    table_pareto_private_customers,\n",
    "    table_pareto_products,\n",
    "    table_portfolio,\n",
    "    table_billing_customers_sba,\n",
    "    table_billing_customers_hospital_care,\n",
    "    table_purchase_frequency,\n",
    "    table_purchase_frequency_customers,\n",
    "    table_last_month_purchase,\n",
    "    table_billing_ay,\n",
    "    table_pending_customers,\n",
    "    table_representation_sales_sba,\n",
    "    table_stock,\n",
    "    table_billing_am,\n",
    "    table_unit_price,\n",
    "    filter=['IV FLUIDS & IRRIGATION', 'DRUGS', 'PARENTERAL NUTRITION']\n",
    ").data"
   ]
  },
  {
   "cell_type": "code",
   "execution_count": 6,
   "id": "35051773",
   "metadata": {},
   "outputs": [],
   "source": [
    "table_general_params = TableProcessor.create_params(table_general_merge).data\n",
    "table_general = TableProcessor.create_coefficient_normalized(table_general_params).data"
   ]
  },
  {
   "cell_type": "code",
   "execution_count": 7,
   "id": "399fa90c",
   "metadata": {},
   "outputs": [],
   "source": [
    "table_allocation_merge = TableMerger.merge_table_allocation(\n",
    "    table_pending,\n",
    "    table_general,\n",
    "    table_customers,\n",
    "    table_billing_am,\n",
    "    table_volume_reg,\n",
    "    table_stock,\n",
    "    table_frete,\n",
    "    table_alert_limits\n",
    ").data"
   ]
  },
  {
   "cell_type": "code",
   "execution_count": 8,
   "id": "2869be64",
   "metadata": {},
   "outputs": [],
   "source": [
    "table_allocation_rules = TableCreator.create_table_business_rules(table_allocation_merge).data"
   ]
  },
  {
   "cell_type": "code",
   "execution_count": 9,
   "id": "9d3b7e38",
   "metadata": {},
   "outputs": [],
   "source": [
    "table_allocation = TableProcessor.allocate(table_allocation_rules).data\n",
    "\n",
    "table_allocation_treated = TableProcessor.treat_allocation_table(table_allocation).data"
   ]
  },
  {
   "cell_type": "code",
   "execution_count": 10,
   "id": "75e7d74f",
   "metadata": {},
   "outputs": [],
   "source": [
    "table_allocation_minimum_order = TableProcessor.create_minimum_order(table_allocation_treated).data"
   ]
  },
  {
   "cell_type": "code",
   "execution_count": 11,
   "id": "e659ddc0",
   "metadata": {},
   "outputs": [],
   "source": [
    "format_float_2_decimal(table_general, 2)\n",
    "format_float_2_decimal(table_allocation_minimum_order, 2)"
   ]
  },
  {
   "cell_type": "code",
   "execution_count": 13,
   "id": "2813e29c",
   "metadata": {},
   "outputs": [
    {
     "name": "stdout",
     "output_type": "stream",
     "text": [
      "Save: ./data/files/table_allocation_rules.xlsx\n"
     ]
    }
   ],
   "source": [
    "save_local_file_xlsx(file=table_allocation_minimum_order, name=\"table_allocation_rules\")"
   ]
  }
 ],
 "metadata": {
  "kernelspec": {
   "display_name": "base",
   "language": "python",
   "name": "python3"
  },
  "language_info": {
   "codemirror_mode": {
    "name": "ipython",
    "version": 3
   },
   "file_extension": ".py",
   "mimetype": "text/x-python",
   "name": "python",
   "nbconvert_exporter": "python",
   "pygments_lexer": "ipython3",
   "version": "3.13.5"
  }
 },
 "nbformat": 4,
 "nbformat_minor": 5
}
