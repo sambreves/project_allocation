{
 "cells": [
  {
   "cell_type": "code",
   "execution_count": 1,
   "id": "d649c0e6",
   "metadata": {},
   "outputs": [
    {
     "name": "stdout",
     "output_type": "stream",
     "text": [
      "Collecting pulp\n",
      "  Downloading pulp-3.2.2-py3-none-any.whl.metadata (6.9 kB)\n",
      "Downloading pulp-3.2.2-py3-none-any.whl (16.4 MB)\n",
      "   ---------------------------------------- 0.0/16.4 MB ? eta -:--:--\n",
      "   --- ------------------------------------ 1.3/16.4 MB 9.6 MB/s eta 0:00:02\n",
      "   ------------ --------------------------- 5.0/16.4 MB 14.4 MB/s eta 0:00:01\n",
      "   --------------- ------------------------ 6.6/16.4 MB 15.5 MB/s eta 0:00:01\n",
      "   ----------------------- ---------------- 9.7/16.4 MB 12.9 MB/s eta 0:00:01\n",
      "   ----------------------------- ---------- 12.1/16.4 MB 12.6 MB/s eta 0:00:01\n",
      "   ----------------------------------- ---- 14.4/16.4 MB 12.6 MB/s eta 0:00:01\n",
      "   -------------------------------------- - 15.7/16.4 MB 11.2 MB/s eta 0:00:01\n",
      "   ---------------------------------------  16.3/16.4 MB 11.6 MB/s eta 0:00:01\n",
      "   ---------------------------------------  16.3/16.4 MB 11.6 MB/s eta 0:00:01\n",
      "   ---------------------------------------  16.3/16.4 MB 11.6 MB/s eta 0:00:01\n",
      "   ---------------------------------------  16.3/16.4 MB 11.6 MB/s eta 0:00:01\n",
      "   ---------------------------------------  16.3/16.4 MB 11.6 MB/s eta 0:00:01\n",
      "   ---------------------------------------  16.3/16.4 MB 11.6 MB/s eta 0:00:01\n",
      "   ---------------------------------------- 16.4/16.4 MB 6.0 MB/s eta 0:00:00\n",
      "Installing collected packages: pulp\n",
      "Successfully installed pulp-3.2.2\n",
      "Note: you may need to restart the kernel to use updated packages.\n"
     ]
    }
   ],
   "source": [
    "%pip install pulp"
   ]
  },
  {
   "cell_type": "code",
   "execution_count": 1,
   "id": "e325845e",
   "metadata": {},
   "outputs": [],
   "source": [
    "from app.classes.data_processor import DataProcessor\n",
    "from app.classes.table_creator import TableCreator\n",
    "from app.classes.table_merger import TableMerger\n",
    "from app.classes.table_processor import TableProcessor\n",
    "from app.utils.save_file import save_local_file_xlsx, save_daily_allocation_OV, save_local_file_csv\n",
    "from app.utils.treat_table import format_float_2_decimal\n",
    "\n",
    "file_content_billing = './data/files/billing_hp_2024.csv'\n",
    "file_content_general_data = './data/files/general_data.xlsx'\n",
    "\n",
    "data_billing_ytd = DataProcessor.type_columns(file_content_general_data, sheet_name=\"billing_hp_2024\").data\n",
    "data_billing_ay = DataProcessor.type_columns(file_content_general_data, sheet_name=\"Billing\").data\n",
    "\n",
    "data_billing = DataProcessor.concat_table_billing(data_billing_ytd, data_billing_ay).data\n",
    "\n",
    "data_customers = DataProcessor.type_columns(file_content_general_data, sheet_name=\"Customers\").data\n",
    "data_products = DataProcessor.type_columns(file_content_general_data, sheet_name=\"Products\").data\n",
    "data_volume = DataProcessor.type_columns(file_content_general_data, sheet_name=\"Volume\").data\n",
    "data_pending = DataProcessor.type_columns(file_content_general_data, sheet_name=\"OV\").data\n",
    "data_volume_reg = DataProcessor.type_columns(file_content_general_data, sheet_name='Volume').data\n",
    "data_stock = DataProcessor.type_columns(file_content_general_data, sheet_name='Stock').data"
   ]
  },
  {
   "cell_type": "code",
   "execution_count": 2,
   "id": "169473c1",
   "metadata": {},
   "outputs": [],
   "source": [
    "table_main = TableCreator.create_table_main(data_customers, data_products).data\n",
    "table_customers = TableCreator.create_table_customers(data_customers).data\n",
    "table_products = TableCreator.create_table_products(data_products).data\n",
    "table_billing_ytd = TableCreator.create_table_billing_ytd(data_billing).data\n",
    "table_pareto_customers = TableCreator.create_table_pareto_customers(table_billing_ytd).data\n",
    "table_volume_sku = TableCreator.create_table_volume_sku(data_volume).data\n",
    "table_pareto_private_customers = TableCreator.create_table_pareto_private_customers(table_billing_ytd, table_customers).data\n",
    "table_pareto_products = TableCreator.create_table_pareto_products(table_billing_ytd).data\n",
    "table_portfolio = TableCreator.create_table_portfolio(table_billing_ytd, table_pareto_products).data\n",
    "table_billing_customers_sba = TableCreator.create_table_billing_customers_sba(table_billing_ytd).data\n",
    "table_billing_customers_hospital_care = TableCreator.create_table_billing_customers_hospital_care(table_billing_ytd).data\n",
    "table_purchase_frequency = TableCreator.create_table_purchase_frequency(data_billing).data\n",
    "table_purchase_frequency_customers = TableCreator.create_table_purchase_frequency_customers(data_billing).data\n",
    "table_last_month_purchase = TableCreator.create_table_last_month_purchase(data_billing).data\n",
    "table_billing_ay = TableCreator.create_table_billing_actual_year(data_billing_ay).data\n",
    "table_pending_customers = TableCreator.create_table_pending_customers(data_pending).data\n",
    "table_representation_sales_sba = TableCreator.create_table_representation_sales_sba(data_billing).data\n",
    "table_unit_price = TableCreator.create_table_unit_price(data_billing).data\n",
    "table_pending = TableCreator.create_table_pending(data_pending).data\n",
    "table_stock = TableCreator.create_table_stock(data_stock).data\n",
    "table_volume_reg = TableCreator.create_table_volume_reg(data_volume_reg).data\n",
    "table_billing_am = TableCreator.create_table_billing_actual_month(data_billing_ay).data"
   ]
  },
  {
   "cell_type": "code",
   "execution_count": 3,
   "id": "5aa6562c",
   "metadata": {},
   "outputs": [],
   "source": [
    "table_general_merge = TableMerger.merge_table_general(\n",
    "    table_main,\n",
    "    table_billing_ytd,\n",
    "    table_customers,\n",
    "    table_products,\n",
    "    table_volume_sku,\n",
    "    table_pareto_customers,\n",
    "    table_pareto_private_customers,\n",
    "    table_pareto_products,\n",
    "    table_portfolio,\n",
    "    table_billing_customers_sba,\n",
    "    table_billing_customers_hospital_care,\n",
    "    table_purchase_frequency,\n",
    "    table_purchase_frequency_customers,\n",
    "    table_last_month_purchase,\n",
    "    table_billing_ay,\n",
    "    table_pending_customers,\n",
    "    table_representation_sales_sba,\n",
    "    table_stock,\n",
    "    table_billing_am,\n",
    "    table_unit_price,\n",
    "    filter=['IV FLUIDS & IRRIGATION', 'DRUGS', 'PARENTERAL NUTRITION']\n",
    ").data"
   ]
  },
  {
   "cell_type": "code",
   "execution_count": 4,
   "id": "35051773",
   "metadata": {},
   "outputs": [],
   "source": [
    "table_general_params = TableProcessor.create_params(table_general_merge).data\n",
    "table_general = TableProcessor.create_coefficient_normalized(table_general_params).data"
   ]
  },
  {
   "cell_type": "code",
   "execution_count": 5,
   "id": "399fa90c",
   "metadata": {},
   "outputs": [],
   "source": [
    "table_allocation_merge = TableMerger.merge_table_allocation(\n",
    "    table_pending,\n",
    "    table_general,\n",
    "    table_customers,\n",
    "    table_billing_am,\n",
    "    table_volume_reg,\n",
    "    table_stock\n",
    ").data"
   ]
  },
  {
   "cell_type": "code",
   "execution_count": 6,
   "id": "9d3b7e38",
   "metadata": {},
   "outputs": [],
   "source": [
    "table_allocation_rules = TableCreator.create_table_business_rules(table_allocation_merge).data\n",
    "\n",
    "table_allocation = TableProcessor.allocate(table_allocation_rules).data\n",
    "\n",
    "table_allocation_treated = TableProcessor.treat_allocation_table(table_allocation).data"
   ]
  },
  {
   "cell_type": "code",
   "execution_count": null,
   "id": "e659ddc0",
   "metadata": {},
   "outputs": [],
   "source": [
    "format_float_2_decimal(table_general, 2)\n",
    "format_float_2_decimal(table_allocation_treated, 2)"
   ]
  },
  {
   "cell_type": "code",
   "execution_count": null,
   "id": "2813e29c",
   "metadata": {},
   "outputs": [],
   "source": []
  }
 ],
 "metadata": {
  "kernelspec": {
   "display_name": "base",
   "language": "python",
   "name": "python3"
  },
  "language_info": {
   "codemirror_mode": {
    "name": "ipython",
    "version": 3
   },
   "file_extension": ".py",
   "mimetype": "text/x-python",
   "name": "python",
   "nbconvert_exporter": "python",
   "pygments_lexer": "ipython3",
   "version": "3.12.7"
  }
 },
 "nbformat": 4,
 "nbformat_minor": 5
}
